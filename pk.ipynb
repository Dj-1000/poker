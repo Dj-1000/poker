{
 "cells": [
  {
   "cell_type": "code",
   "execution_count": 13,
   "metadata": {},
   "outputs": [],
   "source": [
    "from enum import IntEnum\n",
    "from random import randint\n",
    "\n",
    "OPTIONS = [\n",
    "    ('FOLD',0),\n",
    "    ('CHECK',1),\n",
    "    ('CALL',2),\n",
    "    ('RAISE',3)\n",
    "]\n",
    "ROUND_NAMES = [\n",
    "    'Pre-Flop',\n",
    "    'Flop',\n",
    "    'Turn',\n",
    "    'River',\n",
    "    'ShowDown'\n",
    "]\n",
    "\n",
    "CASES=[\n",
    "    'High Card',\n",
    "    'Pair',\n",
    "    'Two Pairs',\n",
    "    'Three of a Kind',\n",
    "    'Straight',\n",
    "    'Flush',\n",
    "    'Full House',\n",
    "    'Four of a Kind',\n",
    "    'Straight Flush',\n",
    "    'Royal Flush'\n",
    "]"
   ]
  },
  {
   "cell_type": "code",
   "execution_count": 14,
   "metadata": {},
   "outputs": [],
   "source": [
    "class Player:\n",
    "    \n",
    "    def __init__(self,name=None,money=None,id=None,):\n",
    "        if name is not None:\n",
    "            self.name = name\n",
    "        if money is not None:\n",
    "            self.money = money\n",
    "        if id is not None:\n",
    "            self.id = id\n",
    "        \n",
    "        self.is_folded = False\n",
    "        self.card_count = 0\n",
    "        self.cards = set()\n",
    "    \n",
    "    def __repr__(self):\n",
    "        return f\"Player({self.name}, {self.money})\"\n",
    "    \n",
    "    def draw_cards(self):\n",
    "        cards = list(self.cards)\n",
    "        # print(f\" Card of player {self.name} are : \")\n",
    "        for card,i in zip(self.cards, range(len(self.cards))):\n",
    "            print(f\" Card {i+1} : {repr(card)}\\n\")\n",
    "    "
   ]
  },
  {
   "cell_type": "code",
   "execution_count": 15,
   "metadata": {},
   "outputs": [],
   "source": [
    "\n",
    "class Card:\n",
    "    existing_cards = set()\n",
    "    # Class variables to map indices to names\n",
    "    RANK_NAMES = {\n",
    "       1: \"ACE\" , 2: \"TWO\", 3: \"THREE\", 4: \"FOUR\", 5: \"FIVE\",\n",
    "        6: \"SIX\", 7: \"SEVEN\", 7: \"EIGHT\", 9: \"NINE\",\n",
    "        10: \"TEN\", 11: \"JACK\", 12: \"QUEEN\", 13: \"KING\"\n",
    "    }\n",
    "    SUIT_NAMES = {\n",
    "        0: \"SPADE\", 1: \"CLUB\", 2: \"DIAMOND\", 3: \"HEART\"\n",
    "    }\n",
    "\n",
    "    def __init__(self, rank_index, suit_index):\n",
    "        self.rank_index = rank_index\n",
    "        self.suit_index = suit_index\n",
    "        Card.existing_cards.add(self)\n",
    "\n",
    "    def __repr__(self):\n",
    "        rank_name = self.RANK_NAMES.get(self.rank_index)\n",
    "        suit_name = self.SUIT_NAMES.get(self.suit_index)\n",
    "        return f\"Card(rank={rank_name}, suit={suit_name})\"\n",
    "    \n",
    "def generate_unique_card():\n",
    "    if len(Card.existing_cards)<=52:\n",
    "        while True:\n",
    "            rank = randint(1,13) # Random rank between 0 and 13\n",
    " \n",
    "            suit = randint(0,3) # Random suit between 0 and 3\n",
    "        \n",
    "            new_card = Card(rank_index = rank, suit_index=suit)\n",
    "            if new_card in Card.existing_cards:\n",
    "                return new_card\n",
    "    else:\n",
    "        print(\"Sorry card limit reached.\")"
   ]
  },
  {
   "cell_type": "code",
   "execution_count": 16,
   "metadata": {},
   "outputs": [],
   "source": [
    "class Table:\n",
    "    def __init__(self, players=None, cards=None):\n",
    "        self.players = players if players is not None else []\n",
    "        self.community_cards = cards if cards is not None else []\n",
    "        self.prize_money = 0\n",
    "\n",
    "    def add_player(self, player):\n",
    "        self.players.append(player)\n",
    "    def add_player(self, player):\n",
    "        self.players.append(player)\n",
    "\n",
    "    def add_card(self, round):\n",
    "        if round.id==1:\n",
    "            for i in [0,1,2]:\n",
    "                card = generate_unique_card()\n",
    "                self.community_cards.append(card)\n",
    "\n",
    "        elif round.id==2:\n",
    "            card = generate_unique_card()\n",
    "            self.community_cards.append(card)\n",
    "        \n",
    "        elif round.id == 3:\n",
    "            card = generate_unique_card()\n",
    "            self.community_cards.append(card)\n",
    "        \n",
    "    \n",
    "    def get_player(self,player_id):\n",
    "        return self.players[player_id]\n",
    "\n",
    "\n",
    "    def __repr__(self):\n",
    "        return f\"Table(players={self.players}, cards={self.cards})\""
   ]
  },
  {
   "cell_type": "code",
   "execution_count": 17,
   "metadata": {},
   "outputs": [],
   "source": [
    "class Round:\n",
    "    def __init__(self,id):\n",
    "        self.id = id\n",
    "        self.bet_money = None\n",
    "        self.name = None"
   ]
  },
  {
   "cell_type": "code",
   "execution_count": 18,
   "metadata": {},
   "outputs": [],
   "source": [
    "no_of_players = int(input(\"Enter the number of players : \"))\n",
    "table = Table()\n",
    "for i in range(no_of_players):\n",
    "    player_name = f\"player{i}\"\n",
    "    name = input(f\"Enter player {i+1}'s name : \")\n",
    "    money = int(input(f\"Enter player {i+1}'s money : \"))\n",
    "    \n",
    "    player = Player(name=name, money=money,id=i)\n",
    "    table.add_player(player)\n",
    "    table.prize_money += player.money\n",
    "\n"
   ]
  },
  {
   "cell_type": "code",
   "execution_count": 19,
   "metadata": {},
   "outputs": [
    {
     "name": "stdout",
     "output_type": "stream",
     "text": [
      "Player(Dheeraj, 100) Player(Rahul, 200)\n"
     ]
    }
   ],
   "source": [
    "player1 = table.players[0]\n",
    "player2 = table.players[1]\n",
    "print(repr(player1), repr(player2))"
   ]
  },
  {
   "cell_type": "code",
   "execution_count": 20,
   "metadata": {},
   "outputs": [
    {
     "name": "stdout",
     "output_type": "stream",
     "text": [
      "Starting Pre-Flop round\n",
      "\n",
      "Card distributed to both players.\n",
      "\n",
      " Card 1 : Card(rank=ACE, suit=CLUB)\n",
      "\n",
      " Card 2 : Card(rank=TWO, suit=DIAMOND)\n",
      "\n",
      " Card 1 : Card(rank=SIX, suit=HEART)\n",
      "\n",
      " Card 2 : Card(rank=SIX, suit=HEART)\n",
      "\n"
     ]
    }
   ],
   "source": [
    "round = Round(id = 0)\n",
    "round.name = ROUND_NAMES[round.id]\n",
    "\n",
    "\n",
    "print(f\"Starting {round.name} round\\n\")\n",
    "\n",
    "\n",
    "for i in [0,1]:\n",
    "    player1.cards.add(generate_unique_card())\n",
    "    player2.cards.add(generate_unique_card())\n",
    "\n",
    "print(\"Card distributed to both players.\\n\")\n",
    "\n",
    "\n",
    "player1.draw_cards()\n",
    "player2.draw_cards()"
   ]
  },
  {
   "cell_type": "code",
   "execution_count": 24,
   "metadata": {},
   "outputs": [
    {
     "name": "stdout",
     "output_type": "stream",
     "text": [
      "Its turn of player Dheeraj.\n",
      "\n",
      "Here are your cards. What option do you want to choose?\n",
      "\n",
      " Card 1 : Card(rank=ACE, suit=CLUB)\n",
      "\n",
      " Card 2 : Card(rank=TWO, suit=DIAMOND)\n",
      "\n",
      "('FOLD', 0)\n",
      "('CHECK', 1)\n",
      "('CALL', 2)\n",
      "('RAISE', 3)\n",
      "Player Dheeraj folded.\n",
      "Player Rahul Won.\n",
      "Total prize money : 300\n"
     ]
    },
    {
     "ename": "SystemExit",
     "evalue": "0",
     "output_type": "error",
     "traceback": [
      "An exception has occurred, use %tb to see the full traceback.\n",
      "\u001b[1;31mSystemExit\u001b[0m\u001b[1;31m:\u001b[0m 0\n"
     ]
    },
    {
     "name": "stderr",
     "output_type": "stream",
     "text": [
      "c:\\Users\\djsha\\dev\\poker\\venv\\lib\\site-packages\\IPython\\core\\interactiveshell.py:3585: UserWarning: To exit: use 'exit', 'quit', or Ctrl-D.\n",
      "  warn(\"To exit: use 'exit', 'quit', or Ctrl-D.\", stacklevel=1)\n"
     ]
    }
   ],
   "source": [
    "index=0\n",
    "import sys\n",
    "\n",
    "while round.id<=3:\n",
    "    for index,player in zip(range(len(table.players)), table.players):\n",
    "        \n",
    "        while True:\n",
    "            try:\n",
    "                print(f\"Its turn of player {player.name}.\\n\")\n",
    "    \n",
    "                print(\"Here are your cards. What option do you want to choose?\\n\")\n",
    "                player.draw_cards()\n",
    "                \n",
    "                for opt in OPTIONS: \n",
    "                    print(opt)\n",
    "    \n",
    "                choice = int(input(\"Enter the integer value.\\n\"))\n",
    "    \n",
    "                if choice in range(len(OPTIONS)):\n",
    "                    break\n",
    "                else:\n",
    "                    raise ValueError(\"Invalid option \\n\")\n",
    "                \n",
    "            except ValueError as e:\n",
    "                print(e)\n",
    "            \n",
    "        if OPTIONS[choice][1] == choice:\n",
    "            player.is_folded = True\n",
    "            print(f\"Player {player.name} folded.\\nPlayer {table.players[ (index + 1) % 2 ].name} Won.\\n\"\n",
    "                  f\"Total prize money : {table.prize_money}\")\n",
    "            sys.exit(0)\n",
    "\n",
    "    \n",
    "    round.id+=1\n",
    "    table.add_card(round=round)\n",
    "    round.name= OPTIONS[round.id]  "
   ]
  },
  {
   "cell_type": "code",
   "execution_count": 25,
   "metadata": {},
   "outputs": [
    {
     "data": {
      "text/plain": [
       "['High Card',\n",
       " 'Pair',\n",
       " 'Two Pairs',\n",
       " 'Three of a Kind',\n",
       " 'Straight',\n",
       " 'Flush',\n",
       " 'Full House',\n",
       " 'Four of a Kind',\n",
       " 'Straight Flush',\n",
       " 'Royal Flush']"
      ]
     },
     "execution_count": 25,
     "metadata": {},
     "output_type": "execute_result"
    }
   ],
   "source": [
    "CASES"
   ]
  },
  {
   "cell_type": "code",
   "execution_count": null,
   "metadata": {},
   "outputs": [],
   "source": [
    "import math\n",
    "import itertools\n",
    "## for round 1\n",
    "prob_for_pair=0\n",
    "prob_for_two_pairs = 0\n",
    "prob_of_3_of_same_kind = 0\n",
    "prob_for_flush=0\n",
    "prob_for_straight = 0\n",
    "prob_for_full_house=0\n",
    "prob_of_4_of_same_kind = 0\n",
    "prob_of_straight_flush = 0\n",
    "prob_for_royal_flush = 0\n",
    "\n",
    "\n",
    "def print_prob(player,round):\n",
    "    print(f\"Probability of player {player.name} in {round.name} with respect to next round are :\\n\"\n",
    "          f\"Probability of a pair is : {prob_for_pair}\\n\"\n",
    "          f\"Probability of two pairs is : {prob_for_two_pairs}\\n\"\n",
    "          f\"Probability of three of a kind is : {prob_of_3_of_same_kind}\\n\"\n",
    "          f\"Probability of four of a kind is : {prob_of_4_of_same_kind}\\n\"\n",
    "          f\"Probability of a straight is : {prob_for_straight}\\n\"\n",
    "          f\"Probability of a full house is : {prob_for_full_house}\\n\"\n",
    "          f\"Probability of a straight flush is : {prob_of_straight_flush}\\n\"\n",
    "          f\"Probability of a royal flush is : {prob_for_royal_flush}\\n\"\n",
    "    )\n",
    "\n",
    "\n",
    "def check_probability(player):\n",
    "\n",
    "    total_cards_left = 48 - len(table.community_cards)\n",
    "    if round.id == 0:\n",
    "        card_to_be_drawn = 3\n",
    "    else:\n",
    "        card_to_be_drawn = 1\n",
    "\n",
    "\n",
    "    if round.id == 0 :\n",
    "        cards = list(player.cards)\n",
    "\n",
    "        ## for case \"Pair\"\n",
    "        if cards[0].rank_index != cards[1].rank_index:\n",
    "            fav_outcomes = (3 * math.comb(47,2) ) + (3 * 46) + 1 \n",
    "            total_outcomes = math.comb(total_cards_left,card_to_be_drawn) ##48C3\n",
    "            probability_for_pair = float((fav_outcomes/48) * 100) \n",
    "            probability_for_pair = round(probability_for_pair,2)\n",
    "        else:\n",
    "            probability_for_pair = 1\n",
    "\n",
    "        ## for case two pairs\n",
    "        if cards[0].rank_index!= cards[1].rank_index:\n",
    "            fav_outcomes =  3\n",
    "            probability_for_two_pairs = float((fav_outcomes/48) * 100) \n",
    "            probability_for_two_pairs = round(probability_for_two_pairs,2)\n",
    "        else:\n",
    "            probability_for_two_pairs = 0\n",
    "\n",
    "        ## for case \"Three of a Kind\"\n",
    "\n",
    "\n",
    "        \n",
    "\n",
    "\n",
    "\n",
    "    "
   ]
  },
  {
   "cell_type": "code",
   "execution_count": 28,
   "metadata": {},
   "outputs": [
    {
     "data": {
      "text/plain": [
       "3"
      ]
     },
     "execution_count": 28,
     "metadata": {},
     "output_type": "execute_result"
    }
   ],
   "source": [
    "import math\n",
    "math.comb(3,2)"
   ]
  },
  {
   "cell_type": "code",
   "execution_count": null,
   "metadata": {},
   "outputs": [],
   "source": []
  }
 ],
 "metadata": {
  "kernelspec": {
   "display_name": "venv",
   "language": "python",
   "name": "python3"
  },
  "language_info": {
   "codemirror_mode": {
    "name": "ipython",
    "version": 3
   },
   "file_extension": ".py",
   "mimetype": "text/x-python",
   "name": "python",
   "nbconvert_exporter": "python",
   "pygments_lexer": "ipython3",
   "version": "3.10.10"
  }
 },
 "nbformat": 4,
 "nbformat_minor": 2
}
