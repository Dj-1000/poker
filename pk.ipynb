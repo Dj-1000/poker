{
 "cells": [
  {
   "cell_type": "code",
   "execution_count": 1,
   "metadata": {},
   "outputs": [],
   "source": [
    "from enum import IntEnum\n",
    "from random import randint\n",
    "\n",
    "OPTIONS = [\n",
    "    ('FOLD',0),\n",
    "    ('CHECK',1),\n",
    "    ('CALL',2),\n",
    "    ('RAISE',3)\n",
    "]\n",
    "\n",
    "class Player:\n",
    "    \n",
    "    def __init__(self,name=None,money=None,id=None,):\n",
    "        if name is not None:\n",
    "            self.name = name\n",
    "        if money is not None:\n",
    "            self.money = money\n",
    "        if id is not None:\n",
    "            self.id = id\n",
    "        \n",
    "        self.is_folded = False\n",
    "        self.card_count = 0\n",
    "        \n",
    "\n",
    "    \n",
    "    def __repr__(self):\n",
    "        return f\"Player({self.name}, {self.money})\""
   ]
  },
  {
   "cell_type": "code",
   "execution_count": 52,
   "metadata": {},
   "outputs": [],
   "source": [
    "\n",
    "class Card:\n",
    "    card_count = 0\n",
    "    existing_cards = set()\n",
    "    # Class variables to map indices to names\n",
    "    RANK_NAMES = {\n",
    "       1: \"ACE\" , 2: \"TWO\", 3: \"THREE\", 4: \"FOUR\", 5: \"FIVE\",\n",
    "        6: \"SIX\", 7: \"SEVEN\", 7: \"EIGHT\", 9: \"NINE\",\n",
    "        10: \"TEN\", 11: \"JACK\", 12: \"QUEEN\", 13: \"KING\"\n",
    "    }\n",
    "    SUIT_NAMES = {\n",
    "        0: \"SPADE\", 1: \"CLUB\", 2: \"DIAMOND\", 3: \"HEART\"\n",
    "    }\n",
    "\n",
    "    def __init__(self, rank_index, suit_index):\n",
    "        self.rank_index = rank_index\n",
    "        self.suit_index = suit_index\n",
    "        Card.card_count+=1\n",
    "        Card.existing_cards.add(self)\n",
    "\n",
    "    def __repr__(self):\n",
    "        rank_name = self.RANK_NAMES.get(self.rank_index, \"Unknown Rank\")\n",
    "        suit_name = self.SUIT_NAMES.get(self.suit_index, \"Unknown Suit\")\n",
    "        return f\"Card(rank={rank_name}, suit={suit_name})\"\n",
    "    \n",
    "def generate_unique_card():\n",
    "    if Card.card_count<=52:\n",
    "        while True:\n",
    "            rank = randint(1,13)\n",
    "            print(rank)  # Random rank between 0 and 13\n",
    "            suit = randint(0,3)\n",
    "            print(suit)  # Random suit between 0 and 3\n",
    "            new_card = Card(rank, suit)\n",
    "            if new_card in Card.existing_cards:\n",
    "                return new_card\n",
    "    else:\n",
    "        print(\"Sorry card limit reached.\")"
   ]
  },
  {
   "cell_type": "code",
   "execution_count": 57,
   "metadata": {},
   "outputs": [],
   "source": [
    "class Table:\n",
    "    def __init__(self, players=None, cards=None):\n",
    "        self.players = players if players is not None else []\n",
    "        self.community_cards = cards if cards is not None else []\n",
    "        self.prize_money = 0\n",
    "\n",
    "    def add_player(self, player):\n",
    "        self.players.append(player)\n",
    "\n",
    "    def add_card(self, card):\n",
    "        self.cards.append(card)\n",
    "\n",
    "    def __repr__(self):\n",
    "        return f\"Table(players={self.players}, cards={self.cards})\""
   ]
  },
  {
   "cell_type": "code",
   "execution_count": null,
   "metadata": {},
   "outputs": [],
   "source": [
    "class Round:\n",
    "    def __init__(self):\n",
    "        self.bet_money = None\n",
    "        self.option =   "
   ]
  },
  {
   "cell_type": "code",
   "execution_count": null,
   "metadata": {},
   "outputs": [],
   "source": [
    "no_of_players = int(input(\"Enter the number of players : \"))\n",
    "table = Table()\n",
    "for i in range(no_of_players):\n",
    "    name = input(f\"Enter player {i+1}'s name : \")\n",
    "    money = int(input(f\"Enter player {i+1}'s money : \"))\n",
    "    player = Player(name, money)\n",
    "    table.add_player(player)\n",
    "    table.prize_moeny += player.money\n"
   ]
  }
 ],
 "metadata": {
  "kernelspec": {
   "display_name": "venv",
   "language": "python",
   "name": "python3"
  },
  "language_info": {
   "codemirror_mode": {
    "name": "ipython",
    "version": 3
   },
   "file_extension": ".py",
   "mimetype": "text/x-python",
   "name": "python",
   "nbconvert_exporter": "python",
   "pygments_lexer": "ipython3",
   "version": "3.10.14"
  }
 },
 "nbformat": 4,
 "nbformat_minor": 2
}
